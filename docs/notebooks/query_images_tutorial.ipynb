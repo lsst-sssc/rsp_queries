{
 "cells": [
  {
   "cell_type": "markdown",
   "id": "d3ed72bf-33a0-476b-8bbe-95b7d8c6aa1b",
   "metadata": {},
   "source": [
    "# Introduction to Image query, download and display\n",
    "\n",
    "**Base:** For Rubin DP1 in the RSP or externally\n",
    "\n",
    "**LSST data products:** `visit_image`, `deep_coadd`, `template_coadd`, `difference_image`\n",
    "\n",
    "**SSSC rsp_queries module:** `query_images`\n",
    "\n",
    "**Packages used:** `lsst.rsp.utils`, `pyvo`, `lsst.rsp.service`, `astropy.time`, `astropy.table`, `astropy.coordinates`, `astropy.units`, [`lsst.afw.display`, `pyds9`]\n",
    "\n",
    "**Authors:** Originally developed by Tim Lister\n"
   ]
  },
  {
   "cell_type": "markdown",
   "id": "56573396-f2a5-4b4a-bb6a-106edb3d453b",
   "metadata": {},
   "source": [
    "## 1. Introduction\n",
    "\n",
    "This notebook demonstrates how to find images using the `ivoa.ObsCore`, retrieve images from a remote location using the [IVOA datalink](https://www.ivoa.net/documents/DataLink/20211115/WD-DataLink-1.1-20211115.html) protocol and download image cutouts using the [Server-side Operations for Data Access (SODA)](https://www.ivoa.net/documents/SODA/20170517/REC-SODA-1.0.html) protocal."
   ]
  },
  {
   "cell_type": "markdown",
   "id": "c174895a-66c3-4f0c-91fa-e61803c46e54",
   "metadata": {},
   "source": [
    "### 1.1 Import packages\n",
    "Import the rsp_queries module and some common astronomy packages "
   ]
  },
  {
   "cell_type": "code",
   "execution_count": 40,
   "id": "db5bd219-ce00-4c80-9830-f26bbfdb4f92",
   "metadata": {},
   "outputs": [],
   "source": [
    "import os\n",
    "from datetime import datetime\n",
    "\n",
    "from astropy.time import Time\n",
    "from astropy import units as u\n",
    "from astropy.coordinates import SkyCoord, CustomBarycentricEcliptic\n",
    "\n",
    "from sso_query.query_images import build_query, make_query, download_data, get_image_cutout, display_image\n"
   ]
  },
  {
   "cell_type": "markdown",
   "id": "cfc83370-4b32-4d1a-a6fa-8b320d6fedfe",
   "metadata": {},
   "source": [
    "### 1.2 Connecting to the RSP\n",
    "\n",
    "Checking for access to the RSP and checking whether `ACCESS_TOKEN` and `EXTERNAL_INSTANCE_URL` have been set if running externally, is handled by `check_rsp_access()`. This is run by the query routines and doesn't need to be done by the user (although it can be;  `check_rsp_access()` will return `True` if access is good)"
   ]
  },
  {
   "cell_type": "markdown",
   "id": "d07f917a-91b0-4ad4-88d2-5cbcfa1b68ff",
   "metadata": {},
   "source": [
    "## 2. Find images\n",
    "\n",
    "### 2.1 Query building\n",
    "The first step is to find some images to work with. This is done by `build_query()` (which is called from the query runner `make_query()`). This routine is designed to handle the coordinates, filter bands and times in a (hopefully) SSSC user-friendly way.\n",
    "\n",
    "We define the center right ascension and declination of our target field which is the low ecliptic latitude 'Rubin SV 38 7' field which has the majority of the Solar System Object (SSO) detections (5304), and unique objects (406)."
   ]
  },
  {
   "cell_type": "code",
   "execution_count": 12,
   "id": "1140ecc0-4363-4c1b-9933-e4f4a8249764",
   "metadata": {},
   "outputs": [
    {
     "name": "stdout",
     "output_type": "stream",
     "text": [
      "RA/Dec= 02 31 26.4 +06 58 48, ecliptic latitude=-7.5 deg\n"
     ]
    }
   ],
   "source": [
    "target_ra = 37.86\n",
    "target_dec = +6.98\n",
    "center = SkyCoord(target_ra, target_dec, unit='deg', frame='icrs')\n",
    "print(f\"RA/Dec= {center.to_string('hmsdms', sep=' ')}, ecliptic latitude={ center.transform_to(CustomBarycentricEcliptic).lat:.1f}\")"
   ]
  },
  {
   "cell_type": "markdown",
   "id": "240d0671-4921-40cc-9692-18900ce99df2",
   "metadata": {},
   "source": [
    "For times, `make_query()` will take either Modified Julian Dates (MJD) in the TAI timescale as a `float` if you have those from e.g. another tutorial notebook or a `astropy.Time` object in any format and timescale.\n",
    "\n",
    "(There is 37s difference between UTC and TAI in 2024, hence the difference from .0 above)"
   ]
  },
  {
   "cell_type": "code",
   "execution_count": 17,
   "id": "adf5ea3f-fc9d-467b-8363-4ac3c026a9d4",
   "metadata": {},
   "outputs": [
    {
     "name": "stdout",
     "output_type": "stream",
     "text": [
      "Search Timespan MJD 60641.000428 -> 60653.000428 TAI\n"
     ]
    }
   ],
   "source": [
    "time1 = Time(datetime(2024, 11, 27), scale='utc')\n",
    "time2 = Time(datetime(2024, 12,  9), scale='utc')\n",
    "print(f\"Search Timespan MJD {time1.tai.mjd:.6f} -> {time2.tai.mjd:.6f} TAI\")"
   ]
  },
  {
   "cell_type": "markdown",
   "id": "7b818ebc-0947-49fa-81cc-c0bd1cfc67ec",
   "metadata": {},
   "source": [
    "Make and print the ADQL query string. By default the bands to be searched are the most relevant for SSO discovery, namely _g, r, i_ but this can be changed by doing e.g, `bands=['r', 'i', 'z', 'y']` in the call "
   ]
  },
  {
   "cell_type": "code",
   "execution_count": 19,
   "id": "5087e8fd-3b6b-4bdf-a190-bbf570d96d38",
   "metadata": {},
   "outputs": [
    {
     "name": "stdout",
     "output_type": "stream",
     "text": [
      "SELECT lsst_visit, lsst_detector, lsst_tract, lsst_patch, lsst_band,s_ra, s_dec, t_min, t_max, s_region, access_url\n",
      "FROM ivoa.ObsCore\n",
      "WHERE calib_level = 2\n",
      "AND CONTAINS(POINT('ICRS', 37.86,6.98), s_region) = 1\n",
      "AND (lsst_band = 'g' OR lsst_band = 'r' OR lsst_band = 'i')\n",
      "AND t_min > 60641.00042824074 AND t_max < 60653.00042824074\n",
      "ORDER BY t_min ASC\n",
      "\n"
     ]
    }
   ],
   "source": [
    "query = build_query(center, t_min=time1, t_max=time2)\n",
    "print(query)"
   ]
  },
  {
   "cell_type": "markdown",
   "id": "f39657f0-be27-4233-a88b-1d24c396207b",
   "metadata": {},
   "source": [
    "To search for difference or coadded images, set `calib_level=3`:"
   ]
  },
  {
   "cell_type": "code",
   "execution_count": 21,
   "id": "9a298524-6a11-4f62-92e8-1441a7feb92a",
   "metadata": {},
   "outputs": [
    {
     "name": "stdout",
     "output_type": "stream",
     "text": [
      "SELECT lsst_visit, lsst_detector, lsst_tract, lsst_patch, lsst_band,s_ra, s_dec, t_min, t_max, s_region, access_url\n",
      "FROM ivoa.ObsCore\n",
      "WHERE calib_level = 3\n",
      "AND CONTAINS(POINT('ICRS', 37.86,6.98), s_region) = 1\n",
      "AND (lsst_band = 'r' OR lsst_band = 'i' OR lsst_band = 'z' OR lsst_band = 'y')\n",
      "AND t_min > 60641.0 AND t_max < 60653.0\n",
      "ORDER BY t_min ASC\n",
      "\n"
     ]
    }
   ],
   "source": [
    "diffs_query = build_query(center, bands=['r', 'i', 'z', 'y'], t_min=60641.0, t_max=60653.0, calib_level=3)\n",
    "print(diffs_query)"
   ]
  },
  {
   "cell_type": "markdown",
   "id": "6c1797ca-ff16-468f-8598-f30c75c1e245",
   "metadata": {},
   "source": [
    "### 2.2 Query execution\n",
    "\n",
    "`make_query()` takes the same options as `build_query()` (which it calls) and checks for access and actually runs the query and returns an `astropy.Table` of results."
   ]
  },
  {
   "cell_type": "code",
   "execution_count": 38,
   "id": "86239fb2-8984-468f-a806-8a305b47f9c4",
   "metadata": {},
   "outputs": [
    {
     "name": "stdout",
     "output_type": "stream",
     "text": [
      "Executing the following query:\n",
      "SELECT lsst_visit, lsst_detector, lsst_tract, lsst_patch, lsst_band,s_ra, s_dec, t_min, t_max, s_region, access_url\n",
      "FROM ivoa.ObsCore\n",
      "WHERE calib_level = 2\n",
      "AND CONTAINS(POINT('ICRS', 37.86,6.98), s_region) = 1\n",
      "AND (lsst_band = 'g' OR lsst_band = 'r' OR lsst_band = 'i')\n",
      "AND t_min > 60641.00042824074 AND t_max < 60653.00042824074\n",
      "ORDER BY t_min ASC\n",
      "\n",
      "Job phase is COMPLETED\n",
      "Found 17 results\n",
      "  lsst_visit  lsst_band        s_ra              s_dec       \n",
      "                               deg                deg        \n",
      "------------- --------- ------------------ ------------------\n",
      "2024112600109         r  37.75709481524148  6.998557496684243\n",
      "2024112600120         g 37.853261795796755  7.089167827554839\n",
      "2024112600123         i  37.91458358975246   6.85777535893368\n",
      "2024112600127         i  37.74977497897163  7.003057973017909\n",
      "2024112600135         i 37.750768121673076  6.990953111438631\n",
      "2024112700088         g    37.758829632072  6.993950761927504\n",
      "2024112700093         g  37.85414583842011  7.086325788050265\n",
      "2024112700100         i 37.756668505700674  6.994717653434285\n",
      "2024112800169         r 37.752367701552494  6.966643904657329\n",
      "2024112800177         g  37.75062960133809 6.9672936912922125\n",
      "2024112800182         g 37.818220902169216  7.080996318194942\n",
      "2024112800184         i  37.94838012099884 6.8772971549390896\n",
      "2024112800189         i 37.747547833404006  6.968128394485247\n",
      "2024120700171         g  37.96904149138911   6.89094696227362\n",
      "2024120700176         g  37.75439866552407  6.939355994122078\n",
      "2024120700179         r 37.967889511569545  6.890995372466814\n",
      "2024120700184         r  37.75319824056864  6.939369178380608\n",
      "['lsst_visit', 'lsst_detector', 'lsst_tract', 'lsst_patch', 'lsst_band', 's_ra', 's_dec', 't_min', 't_max', 's_region', 'access_url']\n"
     ]
    }
   ],
   "source": [
    "results = make_query(center, t_min=time1, t_max=time2)\n",
    "print(results[('lsst_visit', 'lsst_band', 's_ra', 's_dec')])\n",
    "## List of all the columns\n",
    "print(results.colnames)"
   ]
  },
  {
   "cell_type": "markdown",
   "id": "3b1545cb-46c2-4d68-976a-4018d0abf606",
   "metadata": {},
   "source": [
    "## 3. Data download\n",
    "\n",
    "Once a table of results has been obtained, data can be downloaded by calling `download_data`. When first run, this will calculate the size of the downloaded data first; set `actually_download=True` to actually download to the chosen `output_directory` (which is created if necessary). To download the first "
   ]
  },
  {
   "cell_type": "code",
   "execution_count": 26,
   "id": "e3c52a72-537a-4143-904f-879887460ca3",
   "metadata": {},
   "outputs": [
    {
     "name": "stdout",
     "output_type": "stream",
     "text": [
      "Found 2 files with total size 215.02 MB\n",
      "set actually_download=True to actually download the data\n",
      "[]\n"
     ]
    }
   ],
   "source": [
    "output_dir = os.path.join(os.path.expanduser('~'), 'Rubin_dl_data')\n",
    "dl_files = download_data(results[0:2], output_dir)\n",
    "print(dl_files)"
   ]
  },
  {
   "cell_type": "markdown",
   "id": "bf81c882-da0f-4a1e-b9f2-89db684b2271",
   "metadata": {},
   "source": [
    "Actually download the data\n"
   ]
  },
  {
   "cell_type": "code",
   "execution_count": 27,
   "id": "e6ce8b0a-61eb-437b-9038-5db46facfc75",
   "metadata": {},
   "outputs": [
    {
     "name": "stdout",
     "output_type": "stream",
     "text": [
      "Found 2 files with total size 215.02 MB\n",
      "visit_image_LSSTComCam_r_r_03_2024112600109_R22_S02_LSSTComCam_runs_DRP_DP1_DM-51335.fits\n",
      "visit_image_LSSTComCam_g_g_01_2024112600120_R22_S22_LSSTComCam_runs_DRP_DP1_DM-51335.fits\n",
      "['/home/tlister/Rubin_dl_data/visit_image_LSSTComCam_r_r_03_2024112600109_R22_S02_LSSTComCam_runs_DRP_DP1_DM-51335.fits', '/home/tlister/Rubin_dl_data/visit_image_LSSTComCam_g_g_01_2024112600120_R22_S22_LSSTComCam_runs_DRP_DP1_DM-51335.fits']\n"
     ]
    }
   ],
   "source": [
    "dl_files = download_data(results[0:2], output_dir, actually_download=True)\n",
    "print(dl_files)"
   ]
  },
  {
   "cell_type": "code",
   "execution_count": 30,
   "id": "4e825f60-3068-44b2-886c-9b9f3d55821e",
   "metadata": {},
   "outputs": [
    {
     "name": "stdout",
     "output_type": "stream",
     "text": [
      "total 206M\n",
      "-rw-r--r-- 1 tlister tlister 103M Jul 17 15:27 visit_image_LSSTComCam_g_g_01_2024112600120_R22_S22_LSSTComCam_runs_DRP_DP1_DM-51335.fits\n",
      "-rw-r--r-- 1 tlister tlister 103M Jul 17 15:26 visit_image_LSSTComCam_r_r_03_2024112600109_R22_S02_LSSTComCam_runs_DRP_DP1_DM-51335.fits\n"
     ]
    }
   ],
   "source": [
    "# Show files and size\n",
    "status = os.system(f\"ls -lh {output_dir}\")"
   ]
  },
  {
   "cell_type": "code",
   "execution_count": 33,
   "id": "484d38a7-731b-4375-816f-6dca63970ca9",
   "metadata": {},
   "outputs": [
    {
     "name": "stdout",
     "output_type": "stream",
     "text": [
      "total 0\n"
     ]
    }
   ],
   "source": [
    "# and tidy up\n",
    "for file in dl_files:\n",
    "    try:\n",
    "        os.remove(file)\n",
    "    except FileNotFoundError:\n",
    "        pass\n",
    "status = os.system(f\"ls -lh {output_dir}\")    "
   ]
  },
  {
   "cell_type": "markdown",
   "id": "c1d5c234-6c1a-49fc-b22e-c2afff099ab9",
   "metadata": {},
   "source": [
    "## 4. Image cutouts\n",
    "\n",
    "We can cutout a region of the resulting images using `get_image_cutout()` which will return a `astropy.fits.HDUList` (see [Astropy FITS](https://docs.astropy.org/en/stable/io/fits/index.html) docs)\n",
    "\n",
    "(There is currently no checking of whether the passed center is within the image boundaries; feel free to contribute one to the [repo](https://github.com/lsst-sssc/rsp_queries/)...)\n",
    "\n",
    "We'll define a center for out cutout close to the reported center (`s_ra, s_dec`) of the first image of the results from above"
   ]
  },
  {
   "cell_type": "code",
   "execution_count": 41,
   "id": "e948bc24-0b41-4778-a7b0-0df5f3d54c1b",
   "metadata": {},
   "outputs": [
    {
     "name": "stdout",
     "output_type": "stream",
     "text": [
      "Filename: <class '_io.BytesIO'>\n",
      "No.    Name      Ver    Type      Cards   Dimensions   Format\n",
      "  0  PRIMARY       1 PrimaryHDU     734   ()      \n",
      "  1  IMAGE         1 ImageHDU       123   (201, 200)   float32   \n",
      "  2  MASK          1 ImageHDU       143   (201, 200)   int32   \n",
      "  3  VARIANCE      1 ImageHDU       123   (201, 200)   float32   \n",
      "  4  ARCHIVE_INDEX    1 BinTableHDU     41   91R x 7C   [1J, 1J, 1J, 1J, 1J, 64A, 64A]   \n",
      "  5  FilterLabel    1 BinTableHDU     28   1R x 3C   [2X, 32A, 32A]   \n",
      "  6  Detector      1 BinTableHDU    115   1R x 22C   [1QA(7), 1J, 1J, 1QA(13), 1J, 1J, 1J, 1J, 1D, 1D, 1D, 1D, 1D, 1D, 1D, 1D, 1D, 1D, 1J, 1QE(0), 1QA(3), 1J]   \n",
      "  7  TransformMap    1 BinTableHDU     33   19R x 5C   [1QA(10), 1QA(7), 1QA(10), 1QA(7), 1J]   \n",
      "  8  ExposureSummaryStats    1 BinTableHDU     19   21R x 1C   [1QB(104746)]   \n",
      "  9  Detector      2 BinTableHDU    201   16R x 38C   [3X, 1QA(3), 1J, 1J, 1J, 1J, 1D, 1D, 1D, 1D, 1J, 1QD(2), 1QA(12), 1J, 1J, 1J, 1J, 1J, 1J, 1J, 1J, 1J, 1J, 1J, 1J, 1J, 1J, 1J, 1J, 1J, 1J, 1J, 1J, 1J, 1J, 1D, 1D, 1QA(2)]   \n",
      " 10  SkyWcs        1 BinTableHDU     21   1R x 2C   [1QB(15517), 1QB(14892)]   \n",
      " 11  ApCorrMap     1 BinTableHDU     21   62R x 2C   [64A, 1J]   \n",
      " 12  ChebyshevBoundedField    1 BinTableHDU     41   33R x 6C   [1J, 1J, 1J, 1J, 1J, 1D]   \n",
      " 13  ChebyshevBoundedField    2 BinTableHDU     42   30R x 6C   [1J, 1J, 1J, 1J, 1J, 9D]   \n",
      " 14  PhotoCalib    1 BinTableHDU     36   1R x 5C   [1X, 1D, 1D, 1J, 1J]   \n",
      "None\n"
     ]
    }
   ],
   "source": [
    "cutout_center = SkyCoord(37.76, 7.0, unit='deg')\n",
    "hdulist = get_image_cutout(results[0], cutout_center, 20*u.arcsec)\n",
    "print(hdulist.info())"
   ]
  },
  {
   "cell_type": "code",
   "execution_count": 43,
   "id": "48d40c99-c561-4ea7-bbbb-ca3d02142e8e",
   "metadata": {},
   "outputs": [],
   "source": [
    "## Inside the RSP (or if you have the LSST Pipelines installed) this can display the image\n",
    "#import lsst.afw.display as afwDisplay\n",
    "#from lsst.afw.image import ExposureF\n",
    "#afwDisplay.setDefaultBackend('firefly')\n",
    "#afw_display = afwDisplay.Display(frame=1)\n",
    "#afw_display.image(hdulist['IMAGE'])"
   ]
  },
  {
   "cell_type": "markdown",
   "id": "20187bbc-59cb-4210-80ce-b2a11940f545",
   "metadata": {},
   "source": [
    "## 4.1 Direct image download and display\n",
    "\n",
    "`display_image()` can take a Datalink url from the `access_url` column of the results table and display it.\n",
    "Let's display the last image in the results (this part should work inside RSP or outside (if you have DS9 installed))"
   ]
  },
  {
   "cell_type": "code",
   "execution_count": 44,
   "id": "356f30a2-3a5a-491b-b65a-de2eb2dd5232",
   "metadata": {},
   "outputs": [
    {
     "name": "stdout",
     "output_type": "stream",
     "text": [
      "\n",
      "An instance of ds9 was found to be running before we could\n",
      "start the 'xpans' name server. You will need to perform a\n",
      "bit of manual intervention in order to connect this\n",
      "existing ds9 to Python.\n",
      "\n",
      "For ds9 version 5.7 and beyond, simply register the\n",
      "existing ds9 with the xpans name server by selecting the\n",
      "ds9 File->XPA->Connect menu option. Your ds9 will now be\n",
      "fully accessible to pyds9 (e.g., it appear in the list\n",
      "returned by the ds9_targets() routine).\n",
      "\n",
      "For ds9 versions prior to 5.7, you cannot (easily) register\n",
      "with xpans, but you can view ds9's File->XPA Information\n",
      "menu option and pass the value associated with XPA_METHOD\n",
      "directly to the Python DS9() constructor, e.g.:\n",
      "\n",
      "    d = DS9('a000101:12345')\n",
      "\n",
      "The good news is that new instances of ds9 will be\n",
      "registered with xpans, and will be known to ds9_targets()\n",
      "and the DS9() constructor.\n",
      "\n"
     ]
    }
   ],
   "source": [
    "disp = display_image(results[-1]['access_url'])"
   ]
  },
  {
   "cell_type": "code",
   "execution_count": 46,
   "id": "87c4a3b2-dabb-402b-9120-7e2dc723a4e9",
   "metadata": {},
   "outputs": [
    {
     "ename": "NameError",
     "evalue": "name 'hdulist' is not defined",
     "output_type": "error",
     "traceback": [
      "\u001b[0;31m---------------------------------------------------------------------------\u001b[0m",
      "\u001b[0;31mNameError\u001b[0m                                 Traceback (most recent call last)",
      "Cell \u001b[0;32mIn[46], line 2\u001b[0m\n\u001b[1;32m      1\u001b[0m \u001b[38;5;66;03m## Tidy up\u001b[39;00m\n\u001b[0;32m----> 2\u001b[0m \u001b[38;5;28;01mdel\u001b[39;00m(\u001b[43mhdulist\u001b[49m, disp, results)\n",
      "\u001b[0;31mNameError\u001b[0m: name 'hdulist' is not defined"
     ]
    }
   ],
   "source": [
    "## Tidy up\n",
    "del(hdulist, disp, results)"
   ]
  },
  {
   "cell_type": "code",
   "execution_count": null,
   "id": "d0d33f9e-fa16-4813-9ed9-46cc12913a5e",
   "metadata": {},
   "outputs": [],
   "source": []
  }
 ],
 "metadata": {
  "kernelspec": {
   "display_name": "Python 3 (ipykernel)",
   "language": "python",
   "name": "python3"
  },
  "language_info": {
   "codemirror_mode": {
    "name": "ipython",
    "version": 3
   },
   "file_extension": ".py",
   "mimetype": "text/x-python",
   "name": "python",
   "nbconvert_exporter": "python",
   "pygments_lexer": "ipython3",
   "version": "3.11.11"
  }
 },
 "nbformat": 4,
 "nbformat_minor": 5
}

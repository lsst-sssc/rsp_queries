{
 "cells": [
  {
   "cell_type": "markdown",
   "id": "d3ed72bf-33a0-476b-8bbe-95b7d8c6aa1b",
   "metadata": {},
   "source": [
    "# Introduction to Image query, download and display\n",
    "\n",
    "**Base:** For Rubin DP1 in the RSP or externally\n",
    "\n",
    "**LSST data products:** `visit_image`, `deep_coadd`, `template_coadd`, `difference_image`\n",
    "\n",
    "**SSSC rsp_queries module:** `query_images`\n",
    "\n",
    "**Packages used:** `lsst.rsp.utils`, `pyvo`, `lsst.rsp.service`, `astropy.time`, `astropy.table`, `astropy.coordinates`, `astropy.units`, [`lsst.afw.display`, `pyds9`]\n",
    "\n",
    "**Authors:** Originally developed by Tim Lister\n"
   ]
  },
  {
   "cell_type": "markdown",
   "id": "56573396-f2a5-4b4a-bb6a-106edb3d453b",
   "metadata": {},
   "source": [
    "## 1. Introduction\n",
    "\n",
    "This notebook demonstrates how to find images using the `ivoa.ObsCore`, retrieve images from a remote location using the [IVOA datalink](https://www.ivoa.net/documents/DataLink/20211115/WD-DataLink-1.1-20211115.html) protocol and download image cutouts using the [Server-side Operations for Data Access (SODA)](https://www.ivoa.net/documents/SODA/20170517/REC-SODA-1.0.html) protocal."
   ]
  },
  {
   "cell_type": "markdown",
   "id": "c174895a-66c3-4f0c-91fa-e61803c46e54",
   "metadata": {},
   "source": [
    "### 1.1 Import packages\n",
    "Import the rsp_queries module and some common astronomy packages "
   ]
  },
  {
   "cell_type": "code",
   "execution_count": null,
   "id": "db5bd219-ce00-4c80-9830-f26bbfdb4f92",
   "metadata": {},
   "outputs": [],
   "source": [
    "import os\n",
    "from datetime import datetime\n",
    "\n",
    "from astropy.time import Time\n",
    "from astropy import units as u\n",
    "from astropy.coordinates import SkyCoord, CustomBarycentricEcliptic\n",
    "\n",
    "from sso_query.query_images import build_query, make_query, download_data, get_image_cutout, display_image\n"
   ]
  },
  {
   "cell_type": "markdown",
   "id": "cfc83370-4b32-4d1a-a6fa-8b320d6fedfe",
   "metadata": {},
   "source": [
    "### 1.2 Connecting to the RSP\n",
    "\n",
    "Checking for access to the RSP and checking whether `ACCESS_TOKEN` and `EXTERNAL_INSTANCE_URL` have been set if running externally, is handled by `check_rsp_access()`. This is run by the query routines and doesn't need to be done by the user (although it can be;  `check_rsp_access()` will return `True` if access is good)"
   ]
  },
  {
   "cell_type": "markdown",
   "id": "d07f917a-91b0-4ad4-88d2-5cbcfa1b68ff",
   "metadata": {},
   "source": [
    "## 2. Find images\n",
    "\n",
    "### 2.1 Query building\n",
    "The first step is to find some images to work with. This is done by `build_query()` (which is called from the query runner `make_query()`). This routine is designed to handle the coordinates, filter bands and times in a (hopefully) SSSC user-friendly way.\n",
    "\n",
    "We define the center right ascension and declination of our target field which is the low ecliptic latitude 'Rubin SV 38 7' field which has the majority of the Solar System Object (SSO) detections (5304), and unique objects (406)."
   ]
  },
  {
   "cell_type": "code",
   "execution_count": null,
   "id": "1140ecc0-4363-4c1b-9933-e4f4a8249764",
   "metadata": {},
   "outputs": [],
   "source": [
    "target_ra = 37.86\n",
    "target_dec = +6.98\n",
    "center = SkyCoord(target_ra, target_dec, unit='deg', frame='icrs')\n",
    "print(f\"RA/Dec= {center.to_string('hmsdms', sep=' ')}, ecliptic latitude={ center.transform_to(CustomBarycentricEcliptic).lat:.1f}\")"
   ]
  },
  {
   "cell_type": "markdown",
   "id": "240d0671-4921-40cc-9692-18900ce99df2",
   "metadata": {},
   "source": [
    "For times, `make_query()` will take either Modified Julian Dates (MJD) in the TAI timescale as a `float` if you have those from e.g. another tutorial notebook or a `astropy.Time` object in any format and timescale.\n",
    "\n",
    "(There is 37s difference between UTC and TAI in 2024, hence the difference from .0 above)"
   ]
  },
  {
   "cell_type": "code",
   "execution_count": null,
   "id": "adf5ea3f-fc9d-467b-8363-4ac3c026a9d4",
   "metadata": {},
   "outputs": [],
   "source": [
    "time1 = Time(datetime(2024, 11, 27), scale='utc')\n",
    "time2 = Time(datetime(2024, 12,  9), scale='utc')\n",
    "print(f\"Search Timespan MJD {time1.tai.mjd:.6f} -> {time2.tai.mjd:.6f} TAI\")"
   ]
  },
  {
   "cell_type": "markdown",
   "id": "7b818ebc-0947-49fa-81cc-c0bd1cfc67ec",
   "metadata": {},
   "source": [
    "Make and print the ADQL query string. By default the bands to be searched are the most relevant for SSO discovery, namely _g, r, i_ but this can be changed by doing e.g, `bands=['r', 'i', 'z', 'y']` in the call "
   ]
  },
  {
   "cell_type": "code",
   "execution_count": null,
   "id": "5087e8fd-3b6b-4bdf-a190-bbf570d96d38",
   "metadata": {},
   "outputs": [],
   "source": [
    "query = build_query(center, t_min=time1, t_max=time2)\n",
    "print(query)"
   ]
  },
  {
   "cell_type": "markdown",
   "id": "f39657f0-be27-4233-a88b-1d24c396207b",
   "metadata": {},
   "source": [
    "To search for difference or coadded images, set `calib_level=3`:"
   ]
  },
  {
   "cell_type": "code",
   "execution_count": null,
   "id": "9a298524-6a11-4f62-92e8-1441a7feb92a",
   "metadata": {},
   "outputs": [],
   "source": [
    "diffs_query = build_query(center, bands=['r', 'i', 'z', 'y'], t_min=60641.0, t_max=60653.0, calib_level=3)\n",
    "print(diffs_query)"
   ]
  },
  {
   "cell_type": "markdown",
   "id": "6c1797ca-ff16-468f-8598-f30c75c1e245",
   "metadata": {},
   "source": [
    "### 2.2 Query execution\n",
    "\n",
    "`make_query()` takes the same options as `build_query()` (which it calls) and checks for access and actually runs the query and returns an `astropy.Table` of results."
   ]
  },
  {
   "cell_type": "code",
   "execution_count": null,
   "id": "86239fb2-8984-468f-a806-8a305b47f9c4",
   "metadata": {},
   "outputs": [],
   "source": [
    "results = make_query(center, t_min=time1, t_max=time2)\n",
    "print(results[('lsst_visit', 'lsst_band', 's_ra', 's_dec')])\n",
    "## List of all the columns\n",
    "print(results.colnames)"
   ]
  },
  {
   "cell_type": "markdown",
   "id": "3b1545cb-46c2-4d68-976a-4018d0abf606",
   "metadata": {},
   "source": [
    "## 3. Data download\n",
    "\n",
    "Once a table of results has been obtained, data can be downloaded by calling `download_data`. When first run, this will calculate the size of the downloaded data first; set `actually_download=True` to actually download to the chosen `output_directory` (which is created if necessary). To download the first "
   ]
  },
  {
   "cell_type": "code",
   "execution_count": null,
   "id": "e3c52a72-537a-4143-904f-879887460ca3",
   "metadata": {},
   "outputs": [],
   "source": [
    "output_dir = os.path.join(os.path.expanduser('~'), 'Rubin_dl_data')\n",
    "dl_files = download_data(results[0:2], output_dir)\n",
    "print(dl_files)"
   ]
  },
  {
   "cell_type": "markdown",
   "id": "bf81c882-da0f-4a1e-b9f2-89db684b2271",
   "metadata": {},
   "source": [
    "Actually download the data\n"
   ]
  },
  {
   "cell_type": "code",
   "execution_count": null,
   "id": "e6ce8b0a-61eb-437b-9038-5db46facfc75",
   "metadata": {},
   "outputs": [],
   "source": [
    "dl_files = download_data(results[0:2], output_dir, actually_download=True)\n",
    "print(dl_files)"
   ]
  },
  {
   "cell_type": "code",
   "execution_count": null,
   "id": "4e825f60-3068-44b2-886c-9b9f3d55821e",
   "metadata": {},
   "outputs": [],
   "source": [
    "# Show files and size\n",
    "status = os.system(f\"ls -lh {output_dir}\")"
   ]
  },
  {
   "cell_type": "code",
   "execution_count": null,
   "id": "484d38a7-731b-4375-816f-6dca63970ca9",
   "metadata": {},
   "outputs": [],
   "source": [
    "# and tidy up\n",
    "for file in dl_files:\n",
    "    try:\n",
    "        os.remove(file)\n",
    "    except FileNotFoundError:\n",
    "        pass\n",
    "status = os.system(f\"ls -lh {output_dir}\")    "
   ]
  },
  {
   "cell_type": "markdown",
   "id": "c1d5c234-6c1a-49fc-b22e-c2afff099ab9",
   "metadata": {},
   "source": [
    "## 4. Image cutouts\n",
    "\n",
    "We can cutout a region of the resulting images using `get_image_cutout()` which will return a `astropy.fits.HDUList` (see [Astropy FITS](https://docs.astropy.org/en/stable/io/fits/index.html) docs)\n",
    "\n",
    "(There is currently no checking of whether the passed center is within the image boundaries; feel free to contribute one to the [repo](https://github.com/lsst-sssc/rsp_queries/)...)\n",
    "\n",
    "We'll define a center for out cutout close to the reported center (`s_ra, s_dec`) of the first image of the results from above"
   ]
  },
  {
   "cell_type": "code",
   "execution_count": null,
   "id": "e948bc24-0b41-4778-a7b0-0df5f3d54c1b",
   "metadata": {},
   "outputs": [],
   "source": [
    "cutout_center = SkyCoord(37.76, 7.0, unit='deg')\n",
    "hdulist = get_image_cutout(results[0], cutout_center, 20*u.arcsec)\n",
    "print(hdulist.info())"
   ]
  },
  {
   "cell_type": "code",
   "execution_count": null,
   "id": "48d40c99-c561-4ea7-bbbb-ca3d02142e8e",
   "metadata": {},
   "outputs": [],
   "source": [
    "## Inside the RSP (or if you have the LSST Pipelines installed) this can display the image\n",
    "#import lsst.afw.display as afwDisplay\n",
    "#from lsst.afw.image import ExposureF\n",
    "#afwDisplay.setDefaultBackend('firefly')\n",
    "#afw_display = afwDisplay.Display(frame=1)\n",
    "#afw_display.image(hdulist['IMAGE'])"
   ]
  },
  {
   "cell_type": "markdown",
   "id": "20187bbc-59cb-4210-80ce-b2a11940f545",
   "metadata": {},
   "source": [
    "## 4.1 Direct image download and display\n",
    "\n",
    "`display_image()` can take a Datalink url from the `access_url` column of the results table and display it.\n",
    "Let's display the last image in the results (this part should work inside RSP or outside (if you have DS9 installed))"
   ]
  },
  {
   "cell_type": "code",
   "execution_count": null,
   "id": "356f30a2-3a5a-491b-b65a-de2eb2dd5232",
   "metadata": {},
   "outputs": [],
   "source": [
    "disp = display_image(results[-1]['access_url'])"
   ]
  },
  {
   "cell_type": "code",
   "execution_count": null,
   "id": "87c4a3b2-dabb-402b-9120-7e2dc723a4e9",
   "metadata": {},
   "outputs": [],
   "source": [
    "## Tidy up\n",
    "del(hdulist, disp, results)"
   ]
  },
  {
   "cell_type": "code",
   "execution_count": null,
   "id": "d0d33f9e-fa16-4813-9ed9-46cc12913a5e",
   "metadata": {},
   "outputs": [],
   "source": []
  }
 ],
 "metadata": {
  "kernelspec": {
   "display_name": "Python 3 (ipykernel)",
   "language": "python",
   "name": "python3"
  },
  "language_info": {
   "codemirror_mode": {
    "name": "ipython",
    "version": 3
   },
   "file_extension": ".py",
   "mimetype": "text/x-python",
   "name": "python",
   "nbconvert_exporter": "python",
   "pygments_lexer": "ipython3",
   "version": "3.11.11"
  }
 },
 "nbformat": 4,
 "nbformat_minor": 5
}

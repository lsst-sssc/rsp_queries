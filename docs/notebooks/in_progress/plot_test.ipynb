{
 "cells": [
  {
   "cell_type": "markdown",
   "id": "28ad7c2e-ee12-4dc3-8814-e2582f0b402c",
   "metadata": {},
   "source": [
    "### Plotting Test\n",
    "Alex is using this Jupyter notebook to test the plotting + print statements from query.py."
   ]
  },
  {
   "cell_type": "code",
   "execution_count": null,
   "id": "afbeed48-ea78-4823-8843-e7c633ce39fb",
   "metadata": {},
   "outputs": [],
   "source": [
    "import numpy as np\n",
    "import matplotlib.pyplot as plt\n",
    "import pandas as pd\n",
    "from lsst.rsp import get_tap_service\n",
    "import query_helpers as q"
   ]
  },
  {
   "cell_type": "markdown",
   "id": "1f86632e-5cc4-4990-9ec7-c4757444c80f",
   "metadata": {},
   "source": [
    "##### Testing object classifcation\n",
    "There are two ways this classification function works:\n",
    "1. Providing orbit parameters, returning a corresponding object type\n",
    "2. Providing an object type, reutrning corresponding orbit parameters"
   ]
  },
  {
   "cell_type": "code",
   "execution_count": null,
   "id": "fb50a247-c69b-4a00-8c77-4c2a196e90ad",
   "metadata": {},
   "outputs": [],
   "source": [
    "# 1\n",
    "input_params = {\n",
    "        \"q_cutoff_min\": None, \n",
    "        \"q_cutoff\": None,\n",
    "        \"a_cutoff_min\": None, \n",
    "        \"a_cutoff\": None,\n",
    "        \"e_cutoff_min\": None, \n",
    "        \"e_cutoff\": None,\n",
    "        \"t_cutoff_min\": 2.0,\n",
    "        \"t_cutoff\": 3.0}\n",
    "\n",
    "object_type = q.type_classification(input_params = input_params)\n",
    "print(object_type)\n",
    "\n",
    "#2\n",
    "params = q.type_classification(object_type = \"JFC\")\n",
    "print(params)"
   ]
  },
  {
   "cell_type": "markdown",
   "id": "067a62ee-44d4-4d91-9bff-b67ebe3b1342",
   "metadata": {},
   "source": [
    "Now that know our classification works, let's try making a full query. "
   ]
  },
  {
   "cell_type": "code",
   "execution_count": null,
   "id": "5d4f2609-6337-48dc-9c7a-93e4685452ea",
   "metadata": {},
   "outputs": [],
   "source": [
    "# testing with NEOs\n",
    "query, object_type = q.make_query_general(object_type = \"NEO\")\n",
    "print(query)\n",
    "print(object_type)\n",
    "\n",
    "query, object_type = q.make_query_general(object_type = \"NEO\", join = 'Diasource')\n",
    "print(query)\n",
    "print(object_type)\n",
    "\n",
    "query, object_type = q.make_query_general(q_cutoff=1.3, a_cutoff=4.0, e_cutoff = 1.0, join = 'Diasource')\n",
    "print(query)\n",
    "print(object_type) \n"
   ]
  },
  {
   "cell_type": "code",
   "execution_count": null,
   "id": "0158e102-6948-4f4c-ab3a-57f1c9b2a4d3",
   "metadata": {},
   "outputs": [],
   "source": [
    "# running the query\n",
    "NEO_objects_table = q.run_query(query)"
   ]
  },
  {
   "cell_type": "code",
   "execution_count": null,
   "id": "f71a0459-6b46-4f76-b8fa-3d321134e589",
   "metadata": {},
   "outputs": [],
   "source": [
    "# Adding calculated + object_type columns to data table\n",
    "a = q.calc_semimajor_axis(NEO_objects_table['q'], NEO_objects_table['e'])\n",
    "NEO_objects_table['a'] = a\n",
    "NEO_objects_table['object_type'] = object_type\n",
    "\n",
    "print(NEO_objects_table[0:5]) # print first few rows \n",
    "print(NEO_objects_table.columns)"
   ]
  },
  {
   "cell_type": "code",
   "execution_count": null,
   "id": "a6b90ace-fc3b-46a0-aa36-bbf02721b0ba",
   "metadata": {},
   "outputs": [],
   "source": [
    "q.plot_data(NEO_objects_table)\n",
    "\n",
    "# # Manual Plotting Code \n",
    "fig, ax = plt.subplots()\n",
    "# plt.xlim([0., 4.])\n",
    "# plt.ylim([0., 1.])\n",
    "ax.scatter(NEO_objects_table[\"a\"], NEO_objects_table[\"e\"], s=0.1) # a vs. i\n",
    "# ax.set_xscale('log')\n",
    "ax.set_xlabel('semimajor axis (au)')\n",
    "ax.set_ylabel('eccentricity')\n",
    "ax.set_title(\"a vs. e (NEO)\")\n",
    "ax.minorticks_on()\n",
    "ax.grid()\n",
    "plt.show()"
   ]
  },
  {
   "cell_type": "code",
   "execution_count": null,
   "id": "9d2ffcd6-0ade-4966-b093-fccc84d648e1",
   "metadata": {},
   "outputs": [],
   "source": [
    "# q.type_counts(NEO_objects_table)\n",
    "print(NEO_objects_table.columns)\n",
    "df = NEO_objects_table.to_pandas()\n",
    "print(df['object_type'].value_counts())\n",
    "type(df['object_type'].value_counts())"
   ]
  },
  {
   "cell_type": "markdown",
   "id": "c02721e4-5998-44cf-bdc9-d44dd2c8e38a",
   "metadata": {},
   "source": [
    "#### How many observations for each object? In what filters?"
   ]
  },
  {
   "cell_type": "code",
   "execution_count": null,
   "id": "5fd03d11-3c7b-4e99-9378-23107b85e997",
   "metadata": {},
   "outputs": [],
   "source": [
    "# # need to count observations for each unique object in SSO_id\n",
    "# print(df['ssObjectID'].value_counts())\n",
    "# # unique observations within each filter\n",
    "# print(df['band'].value_counts())\n",
    "# # count of unique observations for each unique object in SSO_id within each filter\n",
    "# temp = df.groupby(['ssObjectID', 'band']).size().reset_index(name='obs_filter_count')\n",
    "# print(df.groupby(['ssObjectID', 'band']).size().reset_index(name='obs_filter_count'))\n",
    "# print(temp.columns)\n",
    "\n",
    "observations_by_object_filter = q.obs_filter(df)"
   ]
  },
  {
   "cell_type": "code",
   "execution_count": null,
   "id": "2bb5ed55-760a-46f6-8bbd-19e130fd3d76",
   "metadata": {},
   "outputs": [],
   "source": []
  },
  {
   "cell_type": "code",
   "execution_count": null,
   "id": "85a778c2-2228-4ac2-beed-6cdacc57ae47",
   "metadata": {},
   "outputs": [],
   "source": [
    "\n"
   ]
  },
  {
   "cell_type": "markdown",
   "id": "baecc079-a6f4-4a0e-95ca-4081107ef871",
   "metadata": {},
   "source": [
    "#### What is the average magnitude range? Does any object have an unusually large range?\n",
    "\n",
    "Want to group everything by its object type, then group the observations by object, then want to get the min/max brightnesses from each object, then want to get average min/max values, then if something is more than one std.dev away, want to call it out. "
   ]
  },
  {
   "cell_type": "code",
   "execution_count": null,
   "id": "6ac431f5-3ed0-47e3-a710-e062b56e727d",
   "metadata": {},
   "outputs": [],
   "source": [
    "df.columns"
   ]
  },
  {
   "cell_type": "code",
   "execution_count": null,
   "id": "f8ef7a40-dfb0-4953-8d2b-d0a2baf26372",
   "metadata": {},
   "outputs": [],
   "source": [
    "\"\"\"\n",
    "Function groups everything by object type, observations by unique object, gets min/max mags\n",
    "\"\"\"\n",
    "\n",
    "# 1. Group observations by object type, by ssObjectID, get the min/max/mean magnitudes\n",
    "grouped_obs_data = df.groupby(['object_type', 'ssObjectID']).agg(\n",
    "    mag_min = ('magTrueVband', 'min'), \n",
    "    mag_max = ('magTrueVband', 'max'), \n",
    "    mag_mean = ('magTrueVband', 'mean')\n",
    ")\n",
    "grouped_obs_data = grouped_obs_data.reset_index() # groupby turns 'object_type' and 'ssObjectID' into indeces, this turns them back into columns\n",
    "# print(grouped_obs_data) # degbugging\n",
    "\n",
    "# 2. Create ranges column from min/max magnitudes, get standard deviation of ranges. \n",
    "# want to look at when the range has a larger spread than normal, so want to get the std. deviation of the range\n",
    "mag_range = grouped_obs_data[\"mag_max\"] - grouped_obs_data[\"mag_min\"]\n",
    "# print(mag_range) # debugging\n",
    "grouped_obs_data['mag_range'] = mag_range\n",
    "print(\"Standard Deviation of Range:\", np.std(mag_range))\n",
    "print(\"Mean Range:\", np.mean(mag_range))\n",
    "\n",
    "# 3. Need to check which ranges are above change criterion. Using mean and std. deviation by object_type. \n",
    "large_criterion = np.mean(mag_range) + (np.std(mag_range)*2)\n",
    "print(f\"Large range criterion:\", large_criterion)\n",
    "filtered_large_ranges = grouped_obs_data[grouped_obs_data['mag_range'] > large_criterion]\n",
    "# print(filtered_large_ranges) # debugging\n",
    "# print(filtered_large_ranges.columns) #debugging\n",
    "\n",
    "# 4. Rearranging dataframe so magnitude ranges are in descending order (largest at the top).\n",
    "sorted_filt_lrg_ranges = filtered_large_ranges.sort_values(by='mag_range', ascending=False)\n",
    "# print(sorted_filt_lrg_ranges) # debugging"
   ]
  },
  {
   "cell_type": "code",
   "execution_count": null,
   "id": "d9888577-28a3-409c-a40d-1a3c8fa8b615",
   "metadata": {},
   "outputs": [],
   "source": []
  },
  {
   "cell_type": "code",
   "execution_count": null,
   "id": "1d1415b6-c92f-47f7-a7f2-60540d8814d6",
   "metadata": {},
   "outputs": [],
   "source": []
  },
  {
   "cell_type": "code",
   "execution_count": null,
   "id": "5f274d26-c0e1-4aae-8eca-703e33c8334a",
   "metadata": {},
   "outputs": [],
   "source": []
  },
  {
   "cell_type": "code",
   "execution_count": null,
   "id": "d0648c30-16ff-4840-9543-5b011353b8b9",
   "metadata": {},
   "outputs": [],
   "source": [
    "# getting top 10 ranges\n",
    "top_srtd_filt_lrg_ranges = sorted_filt_lrg_ranges.iloc[:20,:]\n",
    "top_ranges = top_srtd_filt_lrg_ranges.copy()\n",
    "top_ranges['y_spacing'] = range(1, len(top_ranges) + 1) \n",
    "# print(top_ranges) #degbugging\n",
    "\n",
    "\n",
    "# For the largest objects, want to visualize their ranges\n",
    "fig, ax = plt.subplots()\n",
    "ax.hlines(data = top_ranges, y = 'y_spacing', xmin = 'mag_min', xmax = 'mag_max', color = \"black\", linewidth = 2, zorder = 2, label = None)\n",
    "\n",
    "# adding reference line\n",
    "x_center = (top_ranges['mag_min'].min() + top_ranges['mag_max'].max()) / 2\n",
    "xmin_ref = x_center - (np.mean(mag_range/2))\n",
    "xmax_ref = x_center + (np.mean(mag_range/2))\n",
    "ax.hlines(y = 0, xmin = xmin_ref, xmax = xmax_ref, color = \"blue\", linewidth = 2, label = \"Mean Range\") #want this to be in the center of the plot\n",
    "# print(\"Mean Range:\", np.mean(mag_range))\n",
    "sc = ax.scatter(data = top_ranges, x = 'mag_mean', y = 'y_spacing', s = 40, marker='o', edgecolors = \"black\", linewidth = 0.5, c='mag_mean', cmap = 'PiYG', zorder = 3, label = None)\n",
    "cbar = fig.colorbar(sc, ax=ax)\n",
    "cbar.set_label('Mean Magnitude (V)')\n",
    "ax.set_xlabel('Magnitude Range (V)')\n",
    "ax.set_ylabel('ssObject ID')\n",
    "ax.set_title(\"Top 20 Magnitude Ranges\")\n",
    "ax.set_yticks(top_ranges['y_spacing'])\n",
    "ax.set_yticklabels(top_ranges['ssObjectID'])\n",
    "ax.minorticks_on()\n",
    "ax.grid(zorder = 1)\n",
    "plt.legend(loc=\"lower left\")\n",
    "plt.show()\n",
    "\n",
    "\n",
    "# plt.scatter('x', 'y', s='size', c='density', data=df, alpha=0.5, cmap='Blues')"
   ]
  },
  {
   "cell_type": "code",
   "execution_count": null,
   "id": "77b236c6-d3b1-4996-b1a8-f43e02331130",
   "metadata": {},
   "outputs": [],
   "source": [
    "# just plotting all of the NEOs above 2 sigma\n",
    "data_table = sorted_filt_lrg_ranges\n",
    "\n",
    "top_srtd_filt_lrg_ranges = sorted_filt_lrg_ranges.iloc[:10,:]\n",
    "top_ranges = data_table.copy()\n",
    "top_ranges['y_spacing'] = range(1, len(top_ranges) + 1) \n",
    "# print(top_ranges) #degbugging\n",
    "\n",
    "color_map = {\n",
    "    \"NEO\": \"red\",\n",
    "    \"TNO\": \"blue\",\n",
    "    \"Centaur\": \"green\",\n",
    "    \"MBA\": \"orange\",\n",
    "    \"Jtrojan\": \"purple\",\n",
    "    \"LPC\": \"brown\",\n",
    "    \"Ntrojan\": \"pink\"\n",
    "}\n",
    "\n",
    "color = color_map.get(object_type, \"gray\")  # fallback to 'gray' if type unknown\n",
    "# For the largest objects, want to visualize their ranges\n",
    "fig, ax = plt.subplots()\n",
    "ax.hlines(data = top_ranges, y = 'y_spacing', xmin = 'mag_min', xmax = 'mag_max', color = color, linewidth = 2, zorder = 2, label = object_type)\n",
    "\n",
    "# adding reference line\n",
    "x_center = (top_ranges['mag_min'].min() + top_ranges['mag_max'].max()) / 2\n",
    "xmin_ref = x_center - (np.mean(mag_range/2))\n",
    "xmax_ref = x_center + (np.mean(mag_range/2))\n",
    "ax.hlines(y = 0, xmin = xmin_ref, xmax = xmax_ref, color = \"blue\", linewidth = 2, label = \"Mean Range\") #want this to be in the center of the plot\n",
    "# print(\"Mean Range:\", np.mean(mag_range))\n",
    "sc = ax.scatter(data = top_ranges, x = 'mag_mean', y = 'y_spacing', s = 40, marker='o', edgecolors = \"black\", linewidth = 0.5, c='mag_mean', cmap = 'PiYG', zorder = 3, label = None)\n",
    "cbar = fig.colorbar(sc, ax=ax)\n",
    "cbar.set_label('Mean Magnitude (V)')\n",
    "ax.set_xlabel('Magnitude Range (V)')\n",
    "ax.set_ylabel('ssObject ID')\n",
    "ax.set_title(\"Magnitude Ranges\")\n",
    "# ax.set_yticks(top_ranges['y_spacing'])\n",
    "# ax.set_yticklabels(top_ranges['ssObjectID'])\n",
    "ax.minorticks_on()\n",
    "ax.grid(zorder = 1)\n",
    "plt.legend(loc=\"lower left\")\n",
    "plt.show()"
   ]
  },
  {
   "cell_type": "code",
   "execution_count": null,
   "id": "ee21f98d-5e4c-4429-bd0b-db31bb34f93a",
   "metadata": {},
   "outputs": [],
   "source": [
    "# sorted_filt_lrg_ranges.columns\n",
    "\n",
    "# q.mag_range_plot(sorted_filt_lrg_ranges, number = 5)\n",
    "# q.mag_range_plot(sorted_filt_lrg_ranges, number = 40)\n",
    "# q.mag_range_plot(sorted_filt_lrg_ranges, number = None)"
   ]
  },
  {
   "cell_type": "code",
   "execution_count": null,
   "id": "0cec1eba-5c2a-4809-87cf-d118e798cb5e",
   "metadata": {},
   "outputs": [],
   "source": []
  }
 ],
 "metadata": {
  "kernelspec": {
   "display_name": "LSST",
   "language": "python",
   "name": "lsst"
  },
  "language_info": {
   "codemirror_mode": {
    "name": "ipython",
    "version": 3
   },
   "file_extension": ".py",
   "mimetype": "text/x-python",
   "name": "python",
   "nbconvert_exporter": "python",
   "pygments_lexer": "ipython3",
   "version": "3.12.11"
  }
 },
 "nbformat": 4,
 "nbformat_minor": 5
}

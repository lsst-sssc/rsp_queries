{
 "cells": [
  {
   "cell_type": "code",
   "execution_count": null,
   "id": "146359e6-dc1a-4c63-9d55-91045607fc4b",
   "metadata": {},
   "outputs": [],
   "source": [
    "import numpy as np\n",
    "import matplotlib.pyplot as plt\n",
    "import pandas as pd\n",
    "from lsst.rsp import get_tap_service\n",
    "import query as q"
   ]
  },
  {
   "cell_type": "code",
   "execution_count": null,
   "id": "e7677ec9-11c6-45a4-a06a-0e043c70a8b4",
   "metadata": {},
   "outputs": [],
   "source": [
    "service = get_tap_service(\"ssotap\")\n",
    "assert service is not None\n",
    "results = service.search(\"SELECT column_name, datatype, description, \"\n",
    "                         \"unit from TAP_SCHEMA.columns \"\n",
    "                         \"WHERE table_name = 'dp03_catalogs_10yr.DiaSource'\")\n",
    "results.to_table().to_pandas()"
   ]
  },
  {
   "cell_type": "code",
   "execution_count": null,
   "id": "c105f2e1-5a5e-4269-9233-a489c0e891cd",
   "metadata": {},
   "outputs": [],
   "source": [
    "results['description'][9]"
   ]
  },
  {
   "cell_type": "markdown",
   "id": "35dc685b-629e-4984-834a-0dabc75a8266",
   "metadata": {},
   "source": [
    "### Query testing"
   ]
  },
  {
   "cell_type": "markdown",
   "id": "2cde83ef-ca25-42fd-8e0f-2a59c4da1f69",
   "metadata": {},
   "source": [
    "Object type given, no join\n",
    "\n",
    "Object type given, join\n",
    "\n",
    "Object type not given, no join\n",
    "\n",
    "Object type not given, join"
   ]
  },
  {
   "cell_type": "markdown",
   "id": "988504a1-0641-463b-b3c1-3d009e3bbf6e",
   "metadata": {},
   "source": [
    "#### Object type given, no join"
   ]
  },
  {
   "cell_type": "code",
   "execution_count": null,
   "id": "95231655-dac4-4aee-a883-2ec08e27994d",
   "metadata": {},
   "outputs": [],
   "source": [
    "query, object_type = q.make_query_general(object_type = \"JFC\")\n",
    "print(query)\n",
    "print(object_type)\n",
    "\n",
    "query, object_type = q.make_query_general(object_type = \"NEO\")\n",
    "print(query)\n",
    "print(object_type)\n",
    "\n",
    "query, object_type = q.make_query_general(object_type = \"TNO\")\n",
    "print(query)\n",
    "print(object_type)"
   ]
  },
  {
   "cell_type": "markdown",
   "id": "c6316a15-9f20-4a66-9cd6-db397df04997",
   "metadata": {},
   "source": [
    "#### Object type given, join"
   ]
  },
  {
   "cell_type": "code",
   "execution_count": null,
   "id": "7effd904-0559-4049-96ad-be2438d9cbd6",
   "metadata": {},
   "outputs": [],
   "source": [
    "query, object_type = q.make_query_general(object_type = \"JFC\", join = 'Diasource')\n",
    "print(query)\n",
    "print(object_type)\n",
    "\n",
    "query, object_type = q.make_query_general(object_type = \"NEO\", join = 'Diasource')\n",
    "print(query)\n",
    "print(object_type)\n",
    "\n",
    "query, object_type = q.make_query_general(object_type = \"Ntrojan\", join = 'Diasource')\n",
    "print(query)\n",
    "print(object_type)"
   ]
  },
  {
   "cell_type": "markdown",
   "id": "d0a421e3-ca38-46d2-a217-e6110ac9ce3a",
   "metadata": {},
   "source": [
    "#### Params given, join"
   ]
  },
  {
   "cell_type": "code",
   "execution_count": null,
   "id": "bd4eb55e-42e7-41af-a5bf-5a954c566a1d",
   "metadata": {},
   "outputs": [],
   "source": [
    "query, object_type = q.make_query_general(t_cutoff_min = 2.0, t_cutoff = 3.0, join = 'Diasource')\n",
    "print(query)\n",
    "print(object_type)\n",
    "\n",
    "query, object_type = q.make_query_general(a_cutoff_min = 30.1, a_cutoff = 50)\n",
    "print(query)\n",
    "print(object_type)"
   ]
  },
  {
   "cell_type": "code",
   "execution_count": null,
   "id": "12e1e131-d92d-4fa7-bb80-590c26280732",
   "metadata": {},
   "outputs": [],
   "source": [
    "query, object_type = q.make_query_general(object_type = \"JFC\", join = 'Diasource')\n",
    "print(query)\n",
    "print(object_type)\n",
    "\n",
    "query, object_type = q.make_query_general(t_cutoff_min = 2.0, t_cutoff = 3.0, join = 'Diasource')\n",
    "print(query)\n",
    "print(object_type) "
   ]
  },
  {
   "cell_type": "code",
   "execution_count": null,
   "id": "285872ca-2224-40b2-9f41-d48b98bc5140",
   "metadata": {},
   "outputs": [],
   "source": []
  }
 ],
 "metadata": {
  "kernelspec": {
   "display_name": "LSST",
   "language": "python",
   "name": "lsst"
  },
  "language_info": {
   "codemirror_mode": {
    "name": "ipython",
    "version": 3
   },
   "file_extension": ".py",
   "mimetype": "text/x-python",
   "name": "python",
   "nbconvert_exporter": "python",
   "pygments_lexer": "ipython3",
   "version": "3.12.11"
  }
 },
 "nbformat": 4,
 "nbformat_minor": 5
}

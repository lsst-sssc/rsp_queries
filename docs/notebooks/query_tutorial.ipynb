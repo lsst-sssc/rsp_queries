{
 "cells": [
  {
   "cell_type": "markdown",
   "id": "de8ebdb8-6e4f-4389-b722-d8d8d1214ea9",
   "metadata": {},
   "source": [
    "## Query.py Tutorial Doc"
   ]
  },
  {
   "cell_type": "markdown",
   "id": "d14fedac-a1b7-4431-9733-c83aa3af2382",
   "metadata": {},
   "source": [
    "Load in the query file."
   ]
  },
  {
   "cell_type": "code",
   "execution_count": null,
   "id": "c901b3e7-b1f1-4bb2-865a-a793e954dc62",
   "metadata": {},
   "outputs": [],
   "source": [
    "import query as q"
   ]
  },
  {
   "cell_type": "markdown",
   "id": "2a3ba0cc-0fc5-4f29-ae07-bfc49f1adeb7",
   "metadata": {},
   "source": [
    "For this tutotial, we'll be looking NEO objects. query.py contains a global dictionary that contains all searchable classes and their orbital parameters:\n",
    "\n",
    "    \"LPC\": {\"a_min\": 50.0},\n",
    "    \"TNO\": {\"a_min\": 30.1, \"a_max\": 50.0},\n",
    "    \"Ntrojan\": {\"a_min\": 29.8, \"a_max\": 30.4},\n",
    "    \"NEO\": {\"q_max\": 1.3, \"a_max\": 4.0, \"e_max\": 1.0},\n",
    "    \"MBA\": {\"q_min\": 1.66, \"a_min\": 2.0, \"a_max\": 3.2},\n",
    "    \"Centaur\": {\"a_min\": 5.5, \"a_max\": 30.1},\n",
    "    \"Jtrojan\": {\"a_min\": 4.8, \"a_max\": 5.4, \"e_max\": 0.3},\n",
    "    \"JFC\": {\"tj_min\": 2.0, \"tj_max\": 3.0}\n",
    "\n",
    "The 'catalog' variable allows you to query different catalogs; the options are 'dp03_catalogs_10yr' and'dp1_catalogs_10yr'.\n",
    "\n",
    "The 'join' variable allows you to perform an inner join with either 'DiaSource' or 'SSObject'."
   ]
  },
  {
   "cell_type": "markdown",
   "id": "054cec69-43dd-48c0-9349-957fa57e7851",
   "metadata": {},
   "source": [
    "##### Ex 1: Class name provided, no join. "
   ]
  },
  {
   "cell_type": "code",
   "execution_count": null,
   "id": "d5f36750-3576-4044-86dc-e652fe0151ba",
   "metadata": {},
   "outputs": [],
   "source": [
    "string, class_name = q.make_query(\"dp03_catalogs_10yr\", class_name = \"NEO\", cutoffs = None, join = None)\n",
    "print(string)"
   ]
  },
  {
   "cell_type": "markdown",
   "id": "08d51ddb-754d-4a35-97c4-b220ee95ace3",
   "metadata": {},
   "source": [
    "##### Ex 2: Class name provided, join table with DiaSource"
   ]
  },
  {
   "cell_type": "code",
   "execution_count": null,
   "id": "eedaae49-5374-4100-be56-39cf303025b8",
   "metadata": {},
   "outputs": [],
   "source": [
    "string, class_name = q.make_query(\"dp03_catalogs_10yr\", class_name = \"NEO\", cutoffs = None, join = \"DiaSource\")\n",
    "print(string)"
   ]
  },
  {
   "cell_type": "markdown",
   "id": "b1dc6f81-5219-435d-b3cc-acc2dd3750ad",
   "metadata": {},
   "source": [
    "##### Ex 3: Cutoffs provided, no join"
   ]
  },
  {
   "cell_type": "code",
   "execution_count": null,
   "id": "ef3e7141-d7c9-45cb-842e-3c1d94d86362",
   "metadata": {},
   "outputs": [],
   "source": [
    "NEO_cutoffs = {\"q_max\": 1.3, \"a_max\": 4.0, \"e_max\": 1.0}\n",
    "\n",
    "string, class_name = q.make_query(\"dp03_catalogs_10yr\", class_name = None, cutoffs = NEO_cutoffs, join = None)\n",
    "print(string)\n",
    "print(class_name)"
   ]
  },
  {
   "cell_type": "markdown",
   "id": "25e36f91-9774-4552-a456-7da2b10c5461",
   "metadata": {},
   "source": [
    "##### Ex 4: Cutoffs provided, join with SSObject"
   ]
  },
  {
   "cell_type": "code",
   "execution_count": null,
   "id": "3d5df35c-4fe7-4dc5-b6aa-4f1c09951df9",
   "metadata": {},
   "outputs": [],
   "source": [
    "string, class_name = q.make_query(\"dp03_catalogs_10yr\", class_name = None, cutoffs = NEO_cutoffs, join = \"SSObject\")\n",
    "print(string)\n",
    "print(class_name)"
   ]
  },
  {
   "cell_type": "markdown",
   "id": "8025cb7f-01a2-4089-8f20-c4d0b0fad496",
   "metadata": {},
   "source": [
    "### Running your query"
   ]
  },
  {
   "cell_type": "markdown",
   "id": "4eb9ce7b-1c3a-4fbc-8edc-5116257417a1",
   "metadata": {},
   "source": [
    "After generating your desired query, it's time to run it. \n",
    "\n",
    "The run_query function can return either an AstroPy table (to_pandas = False) or a Pandas dataframe (to_pandas = True). \n",
    "\n",
    "The function automatically prints the first few rows of your data. "
   ]
  },
  {
   "cell_type": "code",
   "execution_count": null,
   "id": "f034ae84-4ddc-4923-b4c6-0803720aac6f",
   "metadata": {},
   "outputs": [],
   "source": [
    "NEO_data_table = q.run_query(string, to_pandas = True)\n",
    "print(NEO_data_table)"
   ]
  }
 ],
 "metadata": {
  "kernelspec": {
   "display_name": "LSST",
   "language": "python",
   "name": "lsst"
  },
  "language_info": {
   "codemirror_mode": {
    "name": "ipython",
    "version": 3
   },
   "file_extension": ".py",
   "mimetype": "text/x-python",
   "name": "python",
   "nbconvert_exporter": "python",
   "pygments_lexer": "ipython3",
   "version": "3.12.11"
  }
 },
 "nbformat": 4,
 "nbformat_minor": 5
}

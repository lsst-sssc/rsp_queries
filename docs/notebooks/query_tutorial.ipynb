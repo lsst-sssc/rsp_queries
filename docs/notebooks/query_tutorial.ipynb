{
 "cells": [
  {
   "cell_type": "markdown",
   "id": "de8ebdb8-6e4f-4389-b722-d8d8d1214ea9",
   "metadata": {},
   "source": [
    "## Query.py Tutorial Doc"
   ]
  },
  {
   "cell_type": "markdown",
   "id": "d14fedac-a1b7-4431-9733-c83aa3af2382",
   "metadata": {},
   "source": [
    "Load in the query file."
   ]
  },
  {
   "cell_type": "code",
   "execution_count": 1,
   "id": "c901b3e7-b1f1-4bb2-865a-a793e954dc62",
   "metadata": {
    "execution": {
     "iopub.execute_input": "2025-07-09T17:28:48.173217Z",
     "iopub.status.busy": "2025-07-09T17:28:48.172793Z",
     "iopub.status.idle": "2025-07-09T17:28:49.203440Z",
     "shell.execute_reply": "2025-07-09T17:28:49.202691Z",
     "shell.execute_reply.started": "2025-07-09T17:28:48.173196Z"
    }
   },
   "outputs": [],
   "source": [
    "import sys\n",
    "import os\n",
    "sys.path.append(os.path.abspath('../../sso_query/'))\n",
    "import query as q"
   ]
  },
  {
   "cell_type": "markdown",
   "id": "2a3ba0cc-0fc5-4f29-ae07-bfc49f1adeb7",
   "metadata": {},
   "source": [
    "For this tutotial, we'll be looking NEO objects. query.py contains a global dictionary that contains all searchable classes and their orbital parameters:\n",
    "\n",
    "    \"LPC\": {\"a_min\": 50.0},\n",
    "    \"TNO\": {\"a_min\": 30.1, \"a_max\": 50.0},\n",
    "    \"Ntrojan\": {\"a_min\": 29.8, \"a_max\": 30.4},\n",
    "    \"NEO\": {\"q_max\": 1.3, \"a_max\": 4.0, \"e_max\": 1.0},\n",
    "    \"MBA\": {\"q_min\": 1.66, \"a_min\": 2.0, \"a_max\": 3.2},\n",
    "    \"Centaur\": {\"a_min\": 5.5, \"a_max\": 30.1},\n",
    "    \"Jtrojan\": {\"a_min\": 4.8, \"a_max\": 5.4, \"e_max\": 0.3},\n",
    "    \"JFC\": {\"tj_min\": 2.0, \"tj_max\": 3.0}\n",
    "\n",
    "The 'catalog' variable allows you to query different catalogs; the options are 'dp03_catalogs_10yr' and'dp1_catalogs_10yr'.\n",
    "\n",
    "The 'join' variable allows you to perform an inner join with either 'DiaSource' or 'SSObject'."
   ]
  },
  {
   "cell_type": "markdown",
   "id": "054cec69-43dd-48c0-9349-957fa57e7851",
   "metadata": {},
   "source": [
    "##### Ex 1: DP03, Class name provided, no join. "
   ]
  },
  {
   "cell_type": "code",
   "execution_count": 2,
   "id": "d5f36750-3576-4044-86dc-e652fe0151ba",
   "metadata": {
    "execution": {
     "iopub.execute_input": "2025-07-09T17:28:49.206661Z",
     "iopub.status.busy": "2025-07-09T17:28:49.206413Z",
     "iopub.status.idle": "2025-07-09T17:28:49.210341Z",
     "shell.execute_reply": "2025-07-09T17:28:49.209730Z",
     "shell.execute_reply.started": "2025-07-09T17:28:49.206638Z"
    }
   },
   "outputs": [
    {
     "name": "stdout",
     "output_type": "stream",
     "text": [
      "SELECT mpc.incl, mpc.q, mpc.e, mpc.ssObjectID, mpc.mpcDesignation FROM dp03_catalogs_10yr.MPCORB AS mpc\n",
      "    WHERE mpc.q < 1.3 AND mpc.e < 1.0 AND mpc.q/(1-mpc.e) < 4.0;\n"
     ]
    }
   ],
   "source": [
    "string, class_name = q.make_query(\"dp03_catalogs_10yr\", class_name = \"NEO\", cutoffs = None, join = None)\n",
    "print(string)"
   ]
  },
  {
   "cell_type": "markdown",
   "id": "08d51ddb-754d-4a35-97c4-b220ee95ace3",
   "metadata": {},
   "source": [
    "##### Ex 2: DP03, Class name provided, join table with DiaSource"
   ]
  },
  {
   "cell_type": "code",
   "execution_count": 3,
   "id": "eedaae49-5374-4100-be56-39cf303025b8",
   "metadata": {
    "execution": {
     "iopub.execute_input": "2025-07-09T17:28:49.213027Z",
     "iopub.status.busy": "2025-07-09T17:28:49.212827Z",
     "iopub.status.idle": "2025-07-09T17:28:49.338469Z",
     "shell.execute_reply": "2025-07-09T17:28:49.337789Z",
     "shell.execute_reply.started": "2025-07-09T17:28:49.213007Z"
    }
   },
   "outputs": [
    {
     "name": "stdout",
     "output_type": "stream",
     "text": [
      "Querying dp03_catalogs_10yr.DiaSource for: ['dias.magTrueVband', 'dias.band']\n",
      "SELECT mpc.incl, mpc.q, mpc.e, mpc.ssObjectID, mpc.mpcDesignation, dias.magTrueVband, dias.band FROM dp03_catalogs_10yr.MPCORB AS mpc\n",
      "    INNER JOIN dp03_catalogs_10yr.DiaSource AS dias ON mpc.ssObjectId = dias.ssObjectId\n",
      "    WHERE mpc.q < 1.3 AND mpc.e < 1.0 AND mpc.q/(1-mpc.e) < 4.0;\n"
     ]
    }
   ],
   "source": [
    "string, class_name = q.make_query(\"dp03_catalogs_10yr\", class_name = \"NEO\", cutoffs = None, join = \"DiaSource\")\n",
    "print(string)"
   ]
  },
  {
   "cell_type": "markdown",
   "id": "b1dc6f81-5219-435d-b3cc-acc2dd3750ad",
   "metadata": {},
   "source": [
    "##### Ex 3: DP03, Cutoffs provided, no join"
   ]
  },
  {
   "cell_type": "code",
   "execution_count": 4,
   "id": "ef3e7141-d7c9-45cb-842e-3c1d94d86362",
   "metadata": {
    "execution": {
     "iopub.execute_input": "2025-07-09T17:28:49.339528Z",
     "iopub.status.busy": "2025-07-09T17:28:49.339213Z",
     "iopub.status.idle": "2025-07-09T17:28:49.343291Z",
     "shell.execute_reply": "2025-07-09T17:28:49.342679Z",
     "shell.execute_reply.started": "2025-07-09T17:28:49.339505Z"
    }
   },
   "outputs": [
    {
     "name": "stdout",
     "output_type": "stream",
     "text": [
      "SELECT mpc.incl, mpc.q, mpc.e, mpc.ssObjectID, mpc.mpcDesignation FROM dp03_catalogs_10yr.MPCORB AS mpc\n",
      "    WHERE mpc.q < 1.3 AND mpc.e < 1.0 AND mpc.q/(1-mpc.e) < 4.0;\n",
      "NEO\n"
     ]
    }
   ],
   "source": [
    "NEO_cutoffs = {\"q_max\": 1.3, \"a_max\": 4.0, \"e_max\": 1.0}\n",
    "\n",
    "string, class_name = q.make_query(\"dp03_catalogs_10yr\", class_name = None, cutoffs = NEO_cutoffs, join = None)\n",
    "print(string)\n",
    "print(class_name)"
   ]
  },
  {
   "cell_type": "markdown",
   "id": "25e36f91-9774-4552-a456-7da2b10c5461",
   "metadata": {},
   "source": [
    "##### Ex 4: DP03, Cutoffs provided, join with SSObject"
   ]
  },
  {
   "cell_type": "code",
   "execution_count": 5,
   "id": "3d5df35c-4fe7-4dc5-b6aa-4f1c09951df9",
   "metadata": {
    "execution": {
     "iopub.execute_input": "2025-07-09T17:28:49.344185Z",
     "iopub.status.busy": "2025-07-09T17:28:49.343993Z",
     "iopub.status.idle": "2025-07-09T17:28:49.479485Z",
     "shell.execute_reply": "2025-07-09T17:28:49.478812Z",
     "shell.execute_reply.started": "2025-07-09T17:28:49.344169Z"
    }
   },
   "outputs": [
    {
     "name": "stdout",
     "output_type": "stream",
     "text": [
      "Querying dp03_catalogs_10yr.SSObject for: ['sso.g_H', 'sso.r_H', 'sso.i_H', 'sso.discoverySubmissionDate', 'sso.numObs']\n",
      "SELECT mpc.incl, mpc.q, mpc.e, mpc.ssObjectID, mpc.mpcDesignation, sso.g_H, sso.r_H, sso.i_H, sso.discoverySubmissionDate, sso.numObs, (sso.g_H - sso.r_H) AS g_r_color, (sso.r_H - sso.i_H) AS r_i_color FROM dp03_catalogs_10yr.MPCORB AS mpc\n",
      "    INNER JOIN dp03_catalogs_10yr.SSObject AS sso ON mpc.ssObjectId = sso.ssObjectId\n",
      "    WHERE mpc.q < 1.3 AND mpc.e < 1.0 AND mpc.q/(1-mpc.e) < 4.0;\n",
      "NEO\n"
     ]
    }
   ],
   "source": [
    "string, class_name = q.make_query(\"dp03_catalogs_10yr\", class_name = None, cutoffs = NEO_cutoffs, join = \"SSObject\")\n",
    "print(string)\n",
    "print(class_name)"
   ]
  },
  {
   "cell_type": "markdown",
   "id": "8025cb7f-01a2-4089-8f20-c4d0b0fad496",
   "metadata": {},
   "source": [
    "### Running your query"
   ]
  },
  {
   "cell_type": "markdown",
   "id": "4eb9ce7b-1c3a-4fbc-8edc-5116257417a1",
   "metadata": {},
   "source": [
    "After generating your desired query, it's time to run it. \n",
    "\n",
    "The run_query function can return either an AstroPy table (to_pandas = False) or a Pandas dataframe (to_pandas = True). \n",
    "\n",
    "The function automatically prints the first few rows of your data. "
   ]
  },
  {
   "cell_type": "code",
   "execution_count": 6,
   "id": "f034ae84-4ddc-4923-b4c6-0803720aac6f",
   "metadata": {
    "execution": {
     "iopub.execute_input": "2025-07-09T17:28:49.482268Z",
     "iopub.status.busy": "2025-07-09T17:28:49.482059Z",
     "iopub.status.idle": "2025-07-09T17:28:58.960386Z",
     "shell.execute_reply": "2025-07-09T17:28:58.959712Z",
     "shell.execute_reply.started": "2025-07-09T17:28:49.482247Z"
    }
   },
   "outputs": [
    {
     "name": "stdout",
     "output_type": "stream",
     "text": [
      "Job phase is COMPLETED\n",
      "   discoverySubmissionDate         e        g_H  g_r_color        i_H  \\\n",
      "0                  60747.0  0.396081  13.476295   0.669659  12.608139   \n",
      "1                  60219.0  0.435987  18.141359   0.641882  17.297379   \n",
      "2                  60422.0  0.763999  19.550732   0.634323  18.710812   \n",
      "3                  60560.0  0.623179  18.261578   0.624949  17.455847   \n",
      "4                  60224.0  0.712520  16.118109   0.659043  15.249735   \n",
      "\n",
      "       incl mpcDesignation  numObs         q        r_H  r_i_color  \\\n",
      "0   8.45061        1929 SH      59  1.123543  12.806637   0.198498   \n",
      "1  11.88325       1932 EA1     282  1.080947  17.499477   0.202099   \n",
      "2   1.32170        1936 CA     254  0.441069  18.916409   0.205597   \n",
      "3   6.06758        1937 UB     156  0.622294  17.636629   0.180782   \n",
      "4   2.52162        1947 XC     321  0.625595  15.459065   0.209331   \n",
      "\n",
      "            ssObjectID         a class_name  \n",
      "0  3351269693330531197  1.860420        NEO  \n",
      "1 -5234750409166262016  1.916528        NEO  \n",
      "2  7991128850154218427  1.868924        NEO  \n",
      "3 -7789613295760699323  1.651432        NEO  \n",
      "4  8551587316774204226  2.176135        NEO  \n"
     ]
    }
   ],
   "source": [
    "NEO_data_table = q.run_query(string, class_name, \"dp03_catalogs_10yr\", to_pandas = True)"
   ]
  },
  {
   "cell_type": "code",
   "execution_count": 7,
   "id": "29fe9e64-5e82-4363-a7d7-cccfcf25a3e2",
   "metadata": {
    "execution": {
     "iopub.execute_input": "2025-07-09T17:28:58.961661Z",
     "iopub.status.busy": "2025-07-09T17:28:58.961199Z",
     "iopub.status.idle": "2025-07-09T17:28:58.965333Z",
     "shell.execute_reply": "2025-07-09T17:28:58.964764Z",
     "shell.execute_reply.started": "2025-07-09T17:28:58.961637Z"
    }
   },
   "outputs": [
    {
     "name": "stdout",
     "output_type": "stream",
     "text": [
      "Index(['discoverySubmissionDate', 'e', 'g_H', 'g_r_color', 'i_H', 'incl',\n",
      "       'mpcDesignation', 'numObs', 'q', 'r_H', 'r_i_color', 'ssObjectID', 'a',\n",
      "       'class_name'],\n",
      "      dtype='object')\n"
     ]
    }
   ],
   "source": [
    "print(NEO_data_table.columns)"
   ]
  },
  {
   "cell_type": "markdown",
   "id": "34415791-37fa-4ebb-9161-8e38fead4a56",
   "metadata": {},
   "source": [
    "### DP1 Example"
   ]
  },
  {
   "cell_type": "markdown",
   "id": "28de50da-ac6c-4289-ab37-46ff0978007e",
   "metadata": {},
   "source": [
    "##### Ex 5: DP1, Class name provided, no join"
   ]
  },
  {
   "cell_type": "code",
   "execution_count": 23,
   "id": "4ff68a33-3cb1-40d5-999f-a73cf7194daf",
   "metadata": {
    "execution": {
     "iopub.execute_input": "2025-07-09T15:50:52.322474Z",
     "iopub.status.busy": "2025-07-09T15:50:52.321758Z",
     "iopub.status.idle": "2025-07-09T15:51:01.061350Z",
     "shell.execute_reply": "2025-07-09T15:51:01.060676Z",
     "shell.execute_reply.started": "2025-07-09T15:50:52.322442Z"
    }
   },
   "outputs": [
    {
     "name": "stdout",
     "output_type": "stream",
     "text": [
      "SELECT mpc.incl, mpc.q, mpc.e, mpc.ssObjectID, mpc.mpcDesignation FROM dp1.MPCORB AS mpc\n",
      "    WHERE mpc.q < 1.3 AND mpc.e < 1.0 AND mpc.q/(1-mpc.e) < 4.0;\n",
      "Job phase is COMPLETED\n",
      "          e       incl mpcDesignation         q         ssObjectID         a  \\\n",
      "0  0.600738  13.227656      2017 SZ13  1.064235  21164736941994842  2.665507   \n",
      "1  0.348615  33.468957     2000 EV106  1.074028  21163607131764310  1.648836   \n",
      "2  0.531458   8.168040        2020 XK  1.066431  21165806472671307  2.276062   \n",
      "3  0.524094  27.740362        2011 OB  0.430199  21164711105015874  0.903957   \n",
      "4  0.169844  14.212929       2022 WH4  0.803089  21165815045829704  0.967396   \n",
      "\n",
      "  class_name  \n",
      "0        NEO  \n",
      "1        NEO  \n",
      "2        NEO  \n",
      "3        NEO  \n",
      "4        NEO  \n"
     ]
    }
   ],
   "source": [
    "catalog = \"dp1\"\n",
    "string, class_name = q.make_query(catalog, class_name = \"NEO\", cutoffs = None)\n",
    "print(string)\n",
    "DP1_NEO_no_join = q.run_query(string, class_name, catalog, to_pandas = True)"
   ]
  },
  {
   "cell_type": "markdown",
   "id": "d096231e-cf07-460a-bc21-9e3ad7c286be",
   "metadata": {
    "execution": {
     "iopub.execute_input": "2025-07-09T15:52:44.239195Z",
     "iopub.status.busy": "2025-07-09T15:52:44.238381Z",
     "iopub.status.idle": "2025-07-09T15:52:44.242712Z",
     "shell.execute_reply": "2025-07-09T15:52:44.242083Z",
     "shell.execute_reply.started": "2025-07-09T15:52:44.239160Z"
    }
   },
   "source": [
    "# Works in Progress:"
   ]
  },
  {
   "cell_type": "markdown",
   "id": "d89981b8-debb-4d2c-9130-a5c10ae6998a",
   "metadata": {},
   "source": [
    "##### Ex 6: DP1, Class name provided, join with SSObject"
   ]
  },
  {
   "cell_type": "code",
   "execution_count": 21,
   "id": "40335ef7-f983-4744-a6ef-4ea39d95ba07",
   "metadata": {
    "execution": {
     "iopub.execute_input": "2025-07-09T15:38:09.262984Z",
     "iopub.status.busy": "2025-07-09T15:38:09.262310Z",
     "iopub.status.idle": "2025-07-09T15:38:10.078900Z",
     "shell.execute_reply": "2025-07-09T15:38:10.078023Z",
     "shell.execute_reply.started": "2025-07-09T15:38:09.262954Z"
    }
   },
   "outputs": [
    {
     "name": "stdout",
     "output_type": "stream",
     "text": [
      "Job phase is ERROR\n"
     ]
    },
    {
     "ename": "DALQueryError",
     "evalue": "Query Error: IllegalArgumentException:Column: [g_H] not found in TapSchema",
     "output_type": "error",
     "traceback": [
      "\u001b[0;31m---------------------------------------------------------------------------\u001b[0m",
      "\u001b[0;31mDALQueryError\u001b[0m                             Traceback (most recent call last)",
      "Cell \u001b[0;32mIn[21], line 5\u001b[0m\n\u001b[1;32m      1\u001b[0m expected_query \u001b[38;5;241m=\u001b[39m \u001b[38;5;124mf\u001b[39m\u001b[38;5;124m\"\"\"\u001b[39m\u001b[38;5;124mSELECT mpc.incl, mpc.q, mpc.e, mpc.ssObjectID, mpc.mpcDesignation, sso.g_H, sso.r_H, sso.i_H, sso.discoverySubmissionDate, sso.numObs, (sso.g_H - sso.r_H) AS g_r_color, (sso.r_H - sso.i_H) AS r_i_color FROM dp1.MPCORB AS mpc\u001b[39m\n\u001b[1;32m      2\u001b[0m \u001b[38;5;124m    INNER JOIN dp1.SSObject AS sso ON mpc.ssObjectId = sso.ssObjectId\u001b[39m\n\u001b[1;32m      3\u001b[0m \u001b[38;5;124m    WHERE mpc.q < 1.3 AND mpc.e < 1.0 AND mpc.q/(1-mpc.e) < 4.0;\u001b[39m\u001b[38;5;124m\"\"\"\u001b[39m\n\u001b[0;32m----> 5\u001b[0m DP1_NEO_no_join \u001b[38;5;241m=\u001b[39m \u001b[43mq\u001b[49m\u001b[38;5;241;43m.\u001b[39;49m\u001b[43mrun_query\u001b[49m\u001b[43m(\u001b[49m\u001b[43mexpected_query\u001b[49m\u001b[43m,\u001b[49m\u001b[43m \u001b[49m\u001b[38;5;124;43m\"\u001b[39;49m\u001b[38;5;124;43mdp1\u001b[39;49m\u001b[38;5;124;43m\"\u001b[39;49m\u001b[43m,\u001b[49m\u001b[43m \u001b[49m\u001b[38;5;124;43m\"\u001b[39;49m\u001b[38;5;124;43mNEO\u001b[39;49m\u001b[38;5;124;43m\"\u001b[39;49m\u001b[43m,\u001b[49m\u001b[43m \u001b[49m\u001b[43mto_pandas\u001b[49m\u001b[38;5;241;43m=\u001b[39;49m\u001b[38;5;28;43;01mFalse\u001b[39;49;00m\u001b[43m)\u001b[49m\n",
      "File \u001b[0;32m~/notebooks/rsp_queries/sso_query/query.py:187\u001b[0m, in \u001b[0;36mrun_query\u001b[0;34m(query_string, catalog, class_name, to_pandas)\u001b[0m\n\u001b[1;32m    185\u001b[0m \u001b[38;5;28mprint\u001b[39m(\u001b[38;5;124m'\u001b[39m\u001b[38;5;124mJob phase is\u001b[39m\u001b[38;5;124m'\u001b[39m, job\u001b[38;5;241m.\u001b[39mphase)\n\u001b[1;32m    186\u001b[0m \u001b[38;5;28;01mif\u001b[39;00m job\u001b[38;5;241m.\u001b[39mphase \u001b[38;5;241m==\u001b[39m \u001b[38;5;124m'\u001b[39m\u001b[38;5;124mERROR\u001b[39m\u001b[38;5;124m'\u001b[39m:\n\u001b[0;32m--> 187\u001b[0m     \u001b[43mjob\u001b[49m\u001b[38;5;241;43m.\u001b[39;49m\u001b[43mraise_if_error\u001b[49m\u001b[43m(\u001b[49m\u001b[43m)\u001b[49m\n\u001b[1;32m    189\u001b[0m \u001b[38;5;28;01massert\u001b[39;00m job\u001b[38;5;241m.\u001b[39mphase \u001b[38;5;241m==\u001b[39m \u001b[38;5;124m'\u001b[39m\u001b[38;5;124mCOMPLETED\u001b[39m\u001b[38;5;124m'\u001b[39m\n\u001b[1;32m    190\u001b[0m result \u001b[38;5;241m=\u001b[39m job\u001b[38;5;241m.\u001b[39mfetch_result()\n",
      "File \u001b[0;32m/opt/lsst/software/stack/conda/envs/lsst-scipipe-10.0.0/lib/python3.12/site-packages/pyvo/dal/tap.py:1018\u001b[0m, in \u001b[0;36mAsyncTAPJob.raise_if_error\u001b[0;34m(self)\u001b[0m\n\u001b[1;32m   1016\u001b[0m     msg \u001b[38;5;241m=\u001b[39m \u001b[38;5;28mself\u001b[39m\u001b[38;5;241m.\u001b[39m_job\u001b[38;5;241m.\u001b[39merrorsummary\u001b[38;5;241m.\u001b[39mmessage\u001b[38;5;241m.\u001b[39mcontent\n\u001b[1;32m   1017\u001b[0m msg \u001b[38;5;241m=\u001b[39m msg \u001b[38;5;129;01mor\u001b[39;00m \u001b[38;5;124m\"\u001b[39m\u001b[38;5;124m<No useful error from server>\u001b[39m\u001b[38;5;124m\"\u001b[39m\n\u001b[0;32m-> 1018\u001b[0m \u001b[38;5;28;01mraise\u001b[39;00m DALQueryError(\u001b[38;5;124m\"\u001b[39m\u001b[38;5;124mQuery Error: \u001b[39m\u001b[38;5;124m\"\u001b[39m \u001b[38;5;241m+\u001b[39m msg, \u001b[38;5;28mself\u001b[39m\u001b[38;5;241m.\u001b[39murl)\n",
      "\u001b[0;31mDALQueryError\u001b[0m: Query Error: IllegalArgumentException:Column: [g_H] not found in TapSchema"
     ]
    }
   ],
   "source": [
    "expected_query = f\"\"\"SELECT mpc.incl, mpc.q, mpc.e, mpc.ssObjectID, mpc.mpcDesignation, sso.g_H, sso.r_H, sso.i_H, sso.discoverySubmissionDate, sso.numObs, (sso.g_H - sso.r_H) AS g_r_color, (sso.r_H - sso.i_H) AS r_i_color FROM dp1.MPCORB AS mpc\n",
    "    INNER JOIN dp1.SSObject AS sso ON mpc.ssObjectId = sso.ssObjectId\n",
    "    WHERE mpc.q < 1.3 AND mpc.e < 1.0 AND mpc.q/(1-mpc.e) < 4.0;\"\"\"\n",
    "\n",
    "DP1_NEO_no_join = q.run_query(expected_query, \"NEO\", \"dp1\", to_pandas=False)"
   ]
  },
  {
   "cell_type": "markdown",
   "id": "2760ccb9-a774-4baa-8e29-1cd0f9484053",
   "metadata": {},
   "source": [
    "##### Ex 7: DP1, Class name provided, join with DiaSource"
   ]
  },
  {
   "cell_type": "code",
   "execution_count": 22,
   "id": "14aa4223-1ae6-4a0d-a142-c8b9a99d82fb",
   "metadata": {
    "execution": {
     "iopub.execute_input": "2025-07-09T15:42:18.746723Z",
     "iopub.status.busy": "2025-07-09T15:42:18.745976Z",
     "iopub.status.idle": "2025-07-09T15:42:19.590271Z",
     "shell.execute_reply": "2025-07-09T15:42:19.589456Z",
     "shell.execute_reply.started": "2025-07-09T15:42:18.746693Z"
    }
   },
   "outputs": [
    {
     "name": "stdout",
     "output_type": "stream",
     "text": [
      "Job phase is ERROR\n"
     ]
    },
    {
     "ename": "DALQueryError",
     "evalue": "Query Error: IllegalArgumentException:Column: [magTrueVband] not found in TapSchema",
     "output_type": "error",
     "traceback": [
      "\u001b[0;31m---------------------------------------------------------------------------\u001b[0m",
      "\u001b[0;31mDALQueryError\u001b[0m                             Traceback (most recent call last)",
      "Cell \u001b[0;32mIn[22], line 9\u001b[0m\n\u001b[1;32m      1\u001b[0m \u001b[38;5;66;03m# expected_query = f\"\"\"SELECT mpc.incl, mpc.q, mpc.e, mpc.ssObjectID, mpc.mpcDesignation, sso.g_H, sso.r_H, sso.i_H, sso.discoverySubmissionDate, sso.numObs, (sso.g_H - sso.r_H) AS g_r_color, (sso.r_H - sso.i_H) AS r_i_color FROM dp1.MPCORB AS mpc\u001b[39;00m\n\u001b[1;32m      2\u001b[0m \u001b[38;5;66;03m#     INNER JOIN dp1.SSObject AS sso ON mpc.ssObjectId = sso.ssObjectId\u001b[39;00m\n\u001b[1;32m      3\u001b[0m \u001b[38;5;66;03m#     WHERE mpc.q < 1.3 AND mpc.e < 1.0 AND mpc.q/(1-mpc.e) < 4.0;\"\"\"\u001b[39;00m\n\u001b[1;32m      5\u001b[0m expected_query \u001b[38;5;241m=\u001b[39m \u001b[38;5;124mf\u001b[39m\u001b[38;5;124m\"\"\"\u001b[39m\u001b[38;5;124mSELECT mpc.incl, mpc.q, mpc.e, mpc.ssObjectID, mpc.mpcDesignation, dias.magTrueVband, dias.band FROM dp1.MPCORB AS mpc\u001b[39m\n\u001b[1;32m      6\u001b[0m \u001b[38;5;124m    INNER JOIN dp1.DiaSource AS dias ON mpc.ssObjectId = dias.ssObjectId\u001b[39m\n\u001b[1;32m      7\u001b[0m \u001b[38;5;124m    WHERE mpc.q < 1.3 AND mpc.e < 1.0 AND mpc.q/(1-mpc.e) < 4.0;\u001b[39m\u001b[38;5;124m\"\"\"\u001b[39m\n\u001b[0;32m----> 9\u001b[0m DP1_NEO_no_join \u001b[38;5;241m=\u001b[39m \u001b[43mq\u001b[49m\u001b[38;5;241;43m.\u001b[39;49m\u001b[43mrun_query\u001b[49m\u001b[43m(\u001b[49m\u001b[43mexpected_query\u001b[49m\u001b[43m,\u001b[49m\u001b[43m \u001b[49m\u001b[38;5;124;43m\"\u001b[39;49m\u001b[38;5;124;43mdp1\u001b[39;49m\u001b[38;5;124;43m\"\u001b[39;49m\u001b[43m,\u001b[49m\u001b[43m \u001b[49m\u001b[38;5;124;43m\"\u001b[39;49m\u001b[38;5;124;43mNEO\u001b[39;49m\u001b[38;5;124;43m\"\u001b[39;49m\u001b[43m,\u001b[49m\u001b[43m \u001b[49m\u001b[43mto_pandas\u001b[49m\u001b[38;5;241;43m=\u001b[39;49m\u001b[38;5;28;43;01mFalse\u001b[39;49;00m\u001b[43m)\u001b[49m\n",
      "File \u001b[0;32m~/notebooks/rsp_queries/sso_query/query.py:187\u001b[0m, in \u001b[0;36mrun_query\u001b[0;34m(query_string, catalog, class_name, to_pandas)\u001b[0m\n\u001b[1;32m    185\u001b[0m \u001b[38;5;28mprint\u001b[39m(\u001b[38;5;124m'\u001b[39m\u001b[38;5;124mJob phase is\u001b[39m\u001b[38;5;124m'\u001b[39m, job\u001b[38;5;241m.\u001b[39mphase)\n\u001b[1;32m    186\u001b[0m \u001b[38;5;28;01mif\u001b[39;00m job\u001b[38;5;241m.\u001b[39mphase \u001b[38;5;241m==\u001b[39m \u001b[38;5;124m'\u001b[39m\u001b[38;5;124mERROR\u001b[39m\u001b[38;5;124m'\u001b[39m:\n\u001b[0;32m--> 187\u001b[0m     \u001b[43mjob\u001b[49m\u001b[38;5;241;43m.\u001b[39;49m\u001b[43mraise_if_error\u001b[49m\u001b[43m(\u001b[49m\u001b[43m)\u001b[49m\n\u001b[1;32m    189\u001b[0m \u001b[38;5;28;01massert\u001b[39;00m job\u001b[38;5;241m.\u001b[39mphase \u001b[38;5;241m==\u001b[39m \u001b[38;5;124m'\u001b[39m\u001b[38;5;124mCOMPLETED\u001b[39m\u001b[38;5;124m'\u001b[39m\n\u001b[1;32m    190\u001b[0m result \u001b[38;5;241m=\u001b[39m job\u001b[38;5;241m.\u001b[39mfetch_result()\n",
      "File \u001b[0;32m/opt/lsst/software/stack/conda/envs/lsst-scipipe-10.0.0/lib/python3.12/site-packages/pyvo/dal/tap.py:1018\u001b[0m, in \u001b[0;36mAsyncTAPJob.raise_if_error\u001b[0;34m(self)\u001b[0m\n\u001b[1;32m   1016\u001b[0m     msg \u001b[38;5;241m=\u001b[39m \u001b[38;5;28mself\u001b[39m\u001b[38;5;241m.\u001b[39m_job\u001b[38;5;241m.\u001b[39merrorsummary\u001b[38;5;241m.\u001b[39mmessage\u001b[38;5;241m.\u001b[39mcontent\n\u001b[1;32m   1017\u001b[0m msg \u001b[38;5;241m=\u001b[39m msg \u001b[38;5;129;01mor\u001b[39;00m \u001b[38;5;124m\"\u001b[39m\u001b[38;5;124m<No useful error from server>\u001b[39m\u001b[38;5;124m\"\u001b[39m\n\u001b[0;32m-> 1018\u001b[0m \u001b[38;5;28;01mraise\u001b[39;00m DALQueryError(\u001b[38;5;124m\"\u001b[39m\u001b[38;5;124mQuery Error: \u001b[39m\u001b[38;5;124m\"\u001b[39m \u001b[38;5;241m+\u001b[39m msg, \u001b[38;5;28mself\u001b[39m\u001b[38;5;241m.\u001b[39murl)\n",
      "\u001b[0;31mDALQueryError\u001b[0m: Query Error: IllegalArgumentException:Column: [magTrueVband] not found in TapSchema"
     ]
    }
   ],
   "source": [
    "expected_query = f\"\"\"SELECT mpc.incl, mpc.q, mpc.e, mpc.ssObjectID, mpc.mpcDesignation, dias.magTrueVband, dias.band FROM dp1.MPCORB AS mpc\n",
    "    INNER JOIN dp1.DiaSource AS dias ON mpc.ssObjectId = dias.ssObjectId\n",
    "    WHERE mpc.q < 1.3 AND mpc.e < 1.0 AND mpc.q/(1-mpc.e) < 4.0;\"\"\"\n",
    "\n",
    "DP1_NEO_no_join = q.run_query(expected_query, \"NEO\", \"dp1\", to_pandas=False)"
   ]
  }
 ],
 "metadata": {
  "kernelspec": {
   "display_name": "LSST",
   "language": "python",
   "name": "lsst"
  },
  "language_info": {
   "codemirror_mode": {
    "name": "ipython",
    "version": 3
   },
   "file_extension": ".py",
   "mimetype": "text/x-python",
   "name": "python",
   "nbconvert_exporter": "python",
   "pygments_lexer": "ipython3",
   "version": "3.12.11"
  }
 },
 "nbformat": 4,
 "nbformat_minor": 5
}
